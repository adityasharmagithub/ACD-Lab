{
 "cells": [
  {
   "cell_type": "markdown",
   "metadata": {},
   "source": [
    "<b>Find the type of the grammar with production functions of the form: </b>\n",
    "<h4>α -> β</h4>\n",
    "<ul>\n",
    "    <li>Input number of production functions</li>\n",
    "    <li>Enter α(s) and their β(s) separately</li>\n",
    "    <li>Enter 'l' for lambda</li>\n",
    "    <li>Output will tell the type of grammar</li>\n",
    "</ul>"
   ]
  },
  {
   "cell_type": "code",
   "execution_count": 1,
   "metadata": {},
   "outputs": [
    {
     "name": "stdout",
     "output_type": "stream",
     "text": [
      "Enter number of individual production functions: 4\n",
      "Enter production function number  0 : \n",
      "Enter α: S\n",
      "Enter β: bAb\n",
      "Enter production function number  1 : \n",
      "Enter α: S\n",
      "Enter β: Ab\n",
      "Enter production function number  2 : \n",
      "Enter α: S\n",
      "Enter β: l\n",
      "Enter production function number  3 : \n",
      "Enter α: S\n",
      "Enter β: bS\n",
      "Type of Grammar = 0\n"
     ]
    }
   ],
   "source": [
    "t1_exception = 0\n",
    "rtLinear = 0\n",
    "ltLinear = 0\n",
    "\n",
    "# Checking type of a given production function\n",
    "def checkType(a, b):\n",
    "    global t1_exception\n",
    "    global rtLinear\n",
    "    global ltLinear\n",
    "    \n",
    "    _type = -1\n",
    "    \n",
    "    # Cheking for type 0\n",
    "    for i in a:\n",
    "        if i.isupper():\n",
    "            _type = 0\n",
    "            break\n",
    "    if _type != 0:\n",
    "        return _type\n",
    "    \n",
    "    #Checking for type 1\n",
    "    if len(a) > len(b):\n",
    "        return _type\n",
    "    elif t1_exception == 1 and 'S' in b:\n",
    "        return _type\n",
    "    elif 'S' in a and 'l'  in b:\n",
    "        t1_exception = 1\n",
    "    _type = 1\n",
    "    \n",
    "    # Checking for type 2\n",
    "    if len(a) == 1:\n",
    "        _type = 2\n",
    "    else:\n",
    "        return _type\n",
    "    \n",
    "    # Checking for type 3\n",
    "\n",
    "    # Checking Left Linear\n",
    "    if b[0].isupper():\n",
    "        if (len(b) == 1 or b[1:].islower()) and rtLinear == 0:\n",
    "            ltLinear = 1\n",
    "            _type = 3\n",
    "        else:\n",
    "            return _type\n",
    "    # Checking Right Linear\n",
    "    elif b[-1].isupper():\n",
    "        if (len(b) == 1 or b[-2::-1].islower()) and ltLinear == 0:\n",
    "            rtLinear = 1\n",
    "            _type = 3\n",
    "        else:\n",
    "            return _type\n",
    "    elif b.islower():\n",
    "        _type = 3\n",
    "    else:\n",
    "        return _type\n",
    "    \n",
    "    return _type\n",
    "\n",
    "# Checking and storing types of all production function\n",
    "num = int(input(\"Enter number of individual production functions: \"))\n",
    "_types = []\n",
    "for i in range(num):\n",
    "    print(\"Enter production function number \",i,\": \")\n",
    "    a = input(\"Enter α: \")\n",
    "    b = input(\"Enter β: \")\n",
    "    _type = checkType(a, b)\n",
    "    _types += [_type]\n",
    "\n",
    "# Finding highest common grammar type\n",
    "print(\"Type of Grammar =\", min(_types))"
   ]
  }
 ],
 "metadata": {
  "kernelspec": {
   "display_name": "Python 3",
   "language": "python",
   "name": "python3"
  },
  "language_info": {
   "codemirror_mode": {
    "name": "ipython",
    "version": 3
   },
   "file_extension": ".py",
   "mimetype": "text/x-python",
   "name": "python",
   "nbconvert_exporter": "python",
   "pygments_lexer": "ipython3",
   "version": "3.7.3"
  }
 },
 "nbformat": 4,
 "nbformat_minor": 2
}
